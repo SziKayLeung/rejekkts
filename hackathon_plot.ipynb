{
 "cells": [
  {
   "cell_type": "code",
   "execution_count": 49,
   "id": "0572ee38-1f6a-4410-9d1f-99f9e93c8f91",
   "metadata": {},
   "outputs": [],
   "source": [
    "import pandas as pd\n",
    "import plotly as pl\n",
    "import plotly.express as px\n"
   ]
  },
  {
   "cell_type": "code",
   "execution_count": 30,
   "id": "dedb608e-e1ec-4d0a-a750-45c176703a9e",
   "metadata": {},
   "outputs": [],
   "source": [
    "#read in data\n",
    "pheno= pd.read_csv('/Users/jacobthomas-hegarty/Desktop/hackathon/phenotype.csv')\n",
    "counts=pd.read_csv('/Users/jacobthomas-hegarty/Desktop/hackathon/demux.csv',index_col='isoform')\n",
    "manifest=pd.read_csv('/Users/jacobthomas-hegarty/Desktop/hackathon/manifest.csv')"
   ]
  },
  {
   "cell_type": "code",
   "execution_count": 32,
   "id": "98306037-5efa-4183-ba50-407f9dd64022",
   "metadata": {},
   "outputs": [],
   "source": [
    "#merge data\n",
    "transposedData = counts.transpose().reset_index()\n",
    "mergedData = pd.merge(transposedData, pheno, left_on='index',right_on='sample')\n"
   ]
  },
  {
   "cell_type": "code",
   "execution_count": 40,
   "id": "5153e5c2-e71d-4ead-9869-83cd5423696c",
   "metadata": {},
   "outputs": [
    {
     "name": "stdout",
     "output_type": "stream",
     "text": [
      "                                0  PB.1.1  PB.1.2  PB.10.1  PB.100.1   \n",
      "sample                                                                 \n",
      "A00294.fa                 4789199       0       0        0         0  \\\n",
      "A205891.fa                4737126       0       0        0         0   \n",
      "A278931.fa                3962688       0       0        0         0   \n",
      "NP12078.fa                2564752       0       0        0         0   \n",
      "NP18054.fa                3104020       0       0        0         0   \n",
      "P00012mergedbarcode01.fa  1656644       0       0        0         0   \n",
      "P00012mergedbarcode02.fa  1543137       0       0        0         0   \n",
      "P00012mergedbarcode03.fa  1304997       0       0        0         0   \n",
      "P0003barcode09.fa         3149259       0       0        0         0   \n",
      "P0003barcode10.fa         1783252       0       0        1         0   \n",
      "\n",
      "                          PB.100.10  PB.100.11  PB.100.12  PB.100.13   \n",
      "sample                                                                 \n",
      "A00294.fa                         0          0          0          0  \\\n",
      "A205891.fa                        0          0          0          0   \n",
      "A278931.fa                        0          0          0          0   \n",
      "NP12078.fa                        0          0          0          0   \n",
      "NP18054.fa                        0          0          0          0   \n",
      "P00012mergedbarcode01.fa          0          0          0          0   \n",
      "P00012mergedbarcode02.fa          0          0          0          0   \n",
      "P00012mergedbarcode03.fa          0          0          0          0   \n",
      "P0003barcode09.fa                 0          0          0          0   \n",
      "P0003barcode10.fa                 0          0          0          0   \n",
      "\n",
      "                          PB.100.14  ...  PB.100000.181  PB.100000.1810   \n",
      "sample                               ...                                  \n",
      "A00294.fa                         0  ...              0               0  \\\n",
      "A205891.fa                        0  ...              0               0   \n",
      "A278931.fa                        0  ...              0               0   \n",
      "NP12078.fa                        0  ...              0               0   \n",
      "NP18054.fa                        0  ...              0               0   \n",
      "P00012mergedbarcode01.fa          0  ...              0               0   \n",
      "P00012mergedbarcode02.fa          0  ...              0               0   \n",
      "P00012mergedbarcode03.fa          0  ...              0               0   \n",
      "P0003barcode09.fa                 0  ...              0               0   \n",
      "P0003barcode10.fa                 0  ...              0               0   \n",
      "\n",
      "                          PB.100000.1811  PB.100000.1812  PB.100000.1813   \n",
      "sample                                                                     \n",
      "A00294.fa                              0               0               0  \\\n",
      "A205891.fa                             0               0               0   \n",
      "A278931.fa                             0               0               0   \n",
      "NP12078.fa                             0               0               0   \n",
      "NP18054.fa                             0               0               0   \n",
      "P00012mergedbarcode01.fa               0               0               0   \n",
      "P00012mergedbarcode02.fa               0               0               0   \n",
      "P00012mergedbarcode03.fa               0               0               0   \n",
      "P0003barcode09.fa                      0               0               0   \n",
      "P0003barcode10.fa                      0               0               0   \n",
      "\n",
      "                          PB.100000.1814  PB.100000.1815      group  sex  age  \n",
      "sample                                                                         \n",
      "A00294.fa                              0               0  Postnatal    M   25  \n",
      "A205891.fa                             0               0  Postnatal    F   52  \n",
      "A278931.fa                             0               0   Prenatal    F   23  \n",
      "NP12078.fa                             0               0  Postnatal    F    2  \n",
      "NP18054.fa                             0               0  Postnatal    F    3  \n",
      "P00012mergedbarcode01.fa               0               0   Prenatal    M   19  \n",
      "P00012mergedbarcode02.fa               0               0   Prenatal    F   16  \n",
      "P00012mergedbarcode03.fa               0               0   Prenatal    M   12  \n",
      "P0003barcode09.fa                      0               0   Prenatal    F   40  \n",
      "P0003barcode10.fa                      0               0   Prenatal    F   28  \n",
      "\n",
      "[10 rows x 1003 columns]\n"
     ]
    }
   ],
   "source": [
    "# Set the samples as rownames\n",
    "mergedData.set_index('sample', inplace=True)\n",
    "mergedData.drop(columns=['index'], inplace=True)\n",
    "print(mergedData.head(10))"
   ]
  },
  {
   "cell_type": "code",
   "execution_count": 45,
   "id": "dab5de29-d591-41d5-bc52-e836020da6c6",
   "metadata": {},
   "outputs": [
    {
     "name": "stdout",
     "output_type": "stream",
     "text": [
      "                          PB.1.1  PB.1.2  PB.10.1  PB.100.1  PB.100.10   \n",
      "sample                                                                   \n",
      "A00294.fa                      0       0        0         0          0  \\\n",
      "A205891.fa                     0       0        0         0          0   \n",
      "A278931.fa                     0       0        0         0          0   \n",
      "NP12078.fa                     0       0        0         0          0   \n",
      "NP18054.fa                     0       0        0         0          0   \n",
      "P00012mergedbarcode01.fa       0       0        0         0          0   \n",
      "P00012mergedbarcode02.fa       0       0        0         0          0   \n",
      "P00012mergedbarcode03.fa       0       0        0         0          0   \n",
      "P0003barcode09.fa              0       0        0         0          0   \n",
      "P0003barcode10.fa              0       0        1         0          0   \n",
      "\n",
      "                          PB.100.11  PB.100.12  PB.100.13  PB.100.14   \n",
      "sample                                                                 \n",
      "A00294.fa                         0          0          0          0  \\\n",
      "A205891.fa                        0          0          0          0   \n",
      "A278931.fa                        0          0          0          0   \n",
      "NP12078.fa                        0          0          0          0   \n",
      "NP18054.fa                        0          0          0          0   \n",
      "P00012mergedbarcode01.fa          0          0          0          0   \n",
      "P00012mergedbarcode02.fa          0          0          0          0   \n",
      "P00012mergedbarcode03.fa          0          0          0          0   \n",
      "P0003barcode09.fa                 0          0          0          0   \n",
      "P0003barcode10.fa                 0          0          0          0   \n",
      "\n",
      "                          PB.100.15  ...  PB.100000.1807  PB.100000.1808   \n",
      "sample                               ...                                   \n",
      "A00294.fa                         0  ...               0               0  \\\n",
      "A205891.fa                        0  ...               0               0   \n",
      "A278931.fa                        0  ...               0               0   \n",
      "NP12078.fa                        0  ...               0               0   \n",
      "NP18054.fa                        0  ...               0               0   \n",
      "P00012mergedbarcode01.fa          0  ...               0               0   \n",
      "P00012mergedbarcode02.fa          0  ...               0               0   \n",
      "P00012mergedbarcode03.fa          0  ...               0               0   \n",
      "P0003barcode09.fa                 0  ...               0               0   \n",
      "P0003barcode10.fa                 0  ...               1               0   \n",
      "\n",
      "                          PB.100000.1809  PB.100000.181  PB.100000.1810   \n",
      "sample                                                                    \n",
      "A00294.fa                              0              0               0  \\\n",
      "A205891.fa                             0              0               0   \n",
      "A278931.fa                             0              0               0   \n",
      "NP12078.fa                             0              0               0   \n",
      "NP18054.fa                             0              0               0   \n",
      "P00012mergedbarcode01.fa               0              0               0   \n",
      "P00012mergedbarcode02.fa               0              0               0   \n",
      "P00012mergedbarcode03.fa               0              0               0   \n",
      "P0003barcode09.fa                      0              0               0   \n",
      "P0003barcode10.fa                      0              0               0   \n",
      "\n",
      "                          PB.100000.1811  PB.100000.1812  PB.100000.1813   \n",
      "sample                                                                     \n",
      "A00294.fa                              0               0               0  \\\n",
      "A205891.fa                             0               0               0   \n",
      "A278931.fa                             0               0               0   \n",
      "NP12078.fa                             0               0               0   \n",
      "NP18054.fa                             0               0               0   \n",
      "P00012mergedbarcode01.fa               0               0               0   \n",
      "P00012mergedbarcode02.fa               0               0               0   \n",
      "P00012mergedbarcode03.fa               0               0               0   \n",
      "P0003barcode09.fa                      0               0               0   \n",
      "P0003barcode10.fa                      0               0               0   \n",
      "\n",
      "                          PB.100000.1814  PB.100000.1815  \n",
      "sample                                                    \n",
      "A00294.fa                              0               0  \n",
      "A205891.fa                             0               0  \n",
      "A278931.fa                             0               0  \n",
      "NP12078.fa                             0               0  \n",
      "NP18054.fa                             0               0  \n",
      "P00012mergedbarcode01.fa               0               0  \n",
      "P00012mergedbarcode02.fa               0               0  \n",
      "P00012mergedbarcode03.fa               0               0  \n",
      "P0003barcode09.fa                      0               0  \n",
      "P0003barcode10.fa                      0               0  \n",
      "\n",
      "[10 rows x 999 columns]\n"
     ]
    }
   ],
   "source": [
    "selected=mergedData.iloc[:,1:1000]"
   ]
  },
  {
   "cell_type": "code",
   "execution_count": 48,
   "id": "25b685a1-f9d6-439f-bd86-55a59c442070",
   "metadata": {},
   "outputs": [
    {
     "name": "stdout",
     "output_type": "stream",
     "text": [
      "                                0  PB.1.1  PB.1.2  PB.10.1  PB.100.1   \n",
      "sample                                                                 \n",
      "A00294.fa                 4789199       0       0        0         0  \\\n",
      "A205891.fa                4737126       0       0        0         0   \n",
      "A278931.fa                3962688       0       0        0         0   \n",
      "NP12078.fa                2564752       0       0        0         0   \n",
      "NP18054.fa                3104020       0       0        0         0   \n",
      "P00012mergedbarcode01.fa  1656644       0       0        0         0   \n",
      "P00012mergedbarcode02.fa  1543137       0       0        0         0   \n",
      "P00012mergedbarcode03.fa  1304997       0       0        0         0   \n",
      "P0003barcode09.fa         3149259       0       0        0         0   \n",
      "P0003barcode10.fa         1783252       0       0        1         0   \n",
      "\n",
      "                          PB.100.10  PB.100.11  PB.100.12  PB.100.13   \n",
      "sample                                                                 \n",
      "A00294.fa                         0          0          0          0  \\\n",
      "A205891.fa                        0          0          0          0   \n",
      "A278931.fa                        0          0          0          0   \n",
      "NP12078.fa                        0          0          0          0   \n",
      "NP18054.fa                        0          0          0          0   \n",
      "P00012mergedbarcode01.fa          0          0          0          0   \n",
      "P00012mergedbarcode02.fa          0          0          0          0   \n",
      "P00012mergedbarcode03.fa          0          0          0          0   \n",
      "P0003barcode09.fa                 0          0          0          0   \n",
      "P0003barcode10.fa                 0          0          0          0   \n",
      "\n",
      "                          PB.100.14  ...  PB.100000.1810  PB.100000.1811   \n",
      "sample                               ...                                   \n",
      "A00294.fa                         0  ...               0               0  \\\n",
      "A205891.fa                        0  ...               0               0   \n",
      "A278931.fa                        0  ...               0               0   \n",
      "NP12078.fa                        0  ...               0               0   \n",
      "NP18054.fa                        0  ...               0               0   \n",
      "P00012mergedbarcode01.fa          0  ...               0               0   \n",
      "P00012mergedbarcode02.fa          0  ...               0               0   \n",
      "P00012mergedbarcode03.fa          0  ...               0               0   \n",
      "P0003barcode09.fa                 0  ...               0               0   \n",
      "P0003barcode10.fa                 0  ...               0               0   \n",
      "\n",
      "                          PB.100000.1812  PB.100000.1813  PB.100000.1814   \n",
      "sample                                                                     \n",
      "A00294.fa                              0               0               0  \\\n",
      "A205891.fa                             0               0               0   \n",
      "A278931.fa                             0               0               0   \n",
      "NP12078.fa                             0               0               0   \n",
      "NP18054.fa                             0               0               0   \n",
      "P00012mergedbarcode01.fa               0               0               0   \n",
      "P00012mergedbarcode02.fa               0               0               0   \n",
      "P00012mergedbarcode03.fa               0               0               0   \n",
      "P0003barcode09.fa                      0               0               0   \n",
      "P0003barcode10.fa                      0               0               0   \n",
      "\n",
      "                          PB.100000.1815      group  sex  age  sum  \n",
      "sample                                                              \n",
      "A00294.fa                              0  Postnatal    M   25  196  \n",
      "A205891.fa                             0  Postnatal    F   52   63  \n",
      "A278931.fa                             0   Prenatal    F   23   63  \n",
      "NP12078.fa                             0  Postnatal    F    2   63  \n",
      "NP18054.fa                             0  Postnatal    F    3   63  \n",
      "P00012mergedbarcode01.fa               0   Prenatal    M   19   62  \n",
      "P00012mergedbarcode02.fa               0   Prenatal    F   16   29  \n",
      "P00012mergedbarcode03.fa               0   Prenatal    M   12   28  \n",
      "P0003barcode09.fa                      0   Prenatal    F   40   28  \n",
      "P0003barcode10.fa                      0   Prenatal    F   28   91  \n",
      "\n",
      "[10 rows x 1004 columns]\n"
     ]
    }
   ],
   "source": [
    "mergedData['sum']=selected.sum(axis=1)\n",
    "print(mergedData.head(10))"
   ]
  },
  {
   "cell_type": "code",
   "execution_count": 66,
   "id": "3fd47c88-8987-41da-885d-0ab0cedfb59f",
   "metadata": {},
   "outputs": [
    {
     "data": {
      "application/vnd.plotly.v1+json": {
       "config": {
        "plotlyServerURL": "https://plot.ly"
       },
       "data": [
        {
         "alignmentgroup": "True",
         "hovertemplate": "group=%{x}<br>sum=%{y}<extra></extra>",
         "legendgroup": "",
         "marker": {
          "color": "#636efa"
         },
         "name": "",
         "notched": false,
         "offsetgroup": "",
         "orientation": "v",
         "showlegend": false,
         "type": "box",
         "x": [
          "Postnatal",
          "Postnatal",
          "Prenatal",
          "Postnatal",
          "Postnatal",
          "Prenatal",
          "Prenatal",
          "Prenatal",
          "Prenatal",
          "Prenatal",
          "Prenatal",
          "Postnatal",
          "Prenatal",
          "Postnatal",
          "Postnatal",
          "Postnatal",
          "Postnatal",
          "Postnatal",
          "Postnatal",
          "Postnatal",
          "Prenatal",
          "Postnatal",
          "Prenatal",
          "Postnatal",
          "Prenatal",
          "Postnatal",
          "Postnatal",
          "Postnatal",
          "Prenatal",
          "Postnatal",
          "Prenatal",
          "Prenatal",
          "Prenatal",
          "Prenatal",
          "Postnatal",
          "Prenatal",
          "Prenatal",
          "Postnatal"
         ],
         "x0": " ",
         "xaxis": "x",
         "y": [
          196,
          63,
          63,
          63,
          63,
          62,
          29,
          28,
          28,
          91,
          147,
          92,
          70,
          103,
          129,
          77,
          67,
          48,
          85,
          55,
          133,
          156,
          166,
          70,
          45,
          32,
          119,
          33,
          74,
          58,
          85,
          168,
          18,
          29,
          25,
          16,
          72,
          32
         ],
         "y0": " ",
         "yaxis": "y"
        },
        {
         "hovertemplate": "sex=M<br>group=%{x}<br>sum=%{y}<extra></extra>",
         "legendgroup": "M",
         "marker": {
          "color": "#636efa",
          "symbol": "circle"
         },
         "mode": "markers",
         "name": "M",
         "orientation": "v",
         "showlegend": true,
         "type": "scatter",
         "x": [
          "Postnatal",
          "Prenatal",
          "Prenatal",
          "Prenatal",
          "Postnatal",
          "Postnatal",
          "Postnatal",
          "Postnatal",
          "Postnatal",
          "Postnatal",
          "Postnatal",
          "Postnatal",
          "Prenatal",
          "Prenatal",
          "Postnatal",
          "Prenatal",
          "Prenatal"
         ],
         "xaxis": "x",
         "y": [
          196,
          62,
          28,
          70,
          103,
          129,
          77,
          67,
          48,
          55,
          156,
          32,
          74,
          85,
          25,
          16,
          72
         ],
         "yaxis": "y"
        }
       ],
       "layout": {
        "boxmode": "group",
        "height": 800,
        "legend": {
         "tracegroupgap": 0
        },
        "margin": {
         "t": 60
        },
        "template": {
         "data": {
          "bar": [
           {
            "error_x": {
             "color": "#2a3f5f"
            },
            "error_y": {
             "color": "#2a3f5f"
            },
            "marker": {
             "line": {
              "color": "#E5ECF6",
              "width": 0.5
             },
             "pattern": {
              "fillmode": "overlay",
              "size": 10,
              "solidity": 0.2
             }
            },
            "type": "bar"
           }
          ],
          "barpolar": [
           {
            "marker": {
             "line": {
              "color": "#E5ECF6",
              "width": 0.5
             },
             "pattern": {
              "fillmode": "overlay",
              "size": 10,
              "solidity": 0.2
             }
            },
            "type": "barpolar"
           }
          ],
          "carpet": [
           {
            "aaxis": {
             "endlinecolor": "#2a3f5f",
             "gridcolor": "white",
             "linecolor": "white",
             "minorgridcolor": "white",
             "startlinecolor": "#2a3f5f"
            },
            "baxis": {
             "endlinecolor": "#2a3f5f",
             "gridcolor": "white",
             "linecolor": "white",
             "minorgridcolor": "white",
             "startlinecolor": "#2a3f5f"
            },
            "type": "carpet"
           }
          ],
          "choropleth": [
           {
            "colorbar": {
             "outlinewidth": 0,
             "ticks": ""
            },
            "type": "choropleth"
           }
          ],
          "contour": [
           {
            "colorbar": {
             "outlinewidth": 0,
             "ticks": ""
            },
            "colorscale": [
             [
              0,
              "#0d0887"
             ],
             [
              0.1111111111111111,
              "#46039f"
             ],
             [
              0.2222222222222222,
              "#7201a8"
             ],
             [
              0.3333333333333333,
              "#9c179e"
             ],
             [
              0.4444444444444444,
              "#bd3786"
             ],
             [
              0.5555555555555556,
              "#d8576b"
             ],
             [
              0.6666666666666666,
              "#ed7953"
             ],
             [
              0.7777777777777778,
              "#fb9f3a"
             ],
             [
              0.8888888888888888,
              "#fdca26"
             ],
             [
              1,
              "#f0f921"
             ]
            ],
            "type": "contour"
           }
          ],
          "contourcarpet": [
           {
            "colorbar": {
             "outlinewidth": 0,
             "ticks": ""
            },
            "type": "contourcarpet"
           }
          ],
          "heatmap": [
           {
            "colorbar": {
             "outlinewidth": 0,
             "ticks": ""
            },
            "colorscale": [
             [
              0,
              "#0d0887"
             ],
             [
              0.1111111111111111,
              "#46039f"
             ],
             [
              0.2222222222222222,
              "#7201a8"
             ],
             [
              0.3333333333333333,
              "#9c179e"
             ],
             [
              0.4444444444444444,
              "#bd3786"
             ],
             [
              0.5555555555555556,
              "#d8576b"
             ],
             [
              0.6666666666666666,
              "#ed7953"
             ],
             [
              0.7777777777777778,
              "#fb9f3a"
             ],
             [
              0.8888888888888888,
              "#fdca26"
             ],
             [
              1,
              "#f0f921"
             ]
            ],
            "type": "heatmap"
           }
          ],
          "heatmapgl": [
           {
            "colorbar": {
             "outlinewidth": 0,
             "ticks": ""
            },
            "colorscale": [
             [
              0,
              "#0d0887"
             ],
             [
              0.1111111111111111,
              "#46039f"
             ],
             [
              0.2222222222222222,
              "#7201a8"
             ],
             [
              0.3333333333333333,
              "#9c179e"
             ],
             [
              0.4444444444444444,
              "#bd3786"
             ],
             [
              0.5555555555555556,
              "#d8576b"
             ],
             [
              0.6666666666666666,
              "#ed7953"
             ],
             [
              0.7777777777777778,
              "#fb9f3a"
             ],
             [
              0.8888888888888888,
              "#fdca26"
             ],
             [
              1,
              "#f0f921"
             ]
            ],
            "type": "heatmapgl"
           }
          ],
          "histogram": [
           {
            "marker": {
             "pattern": {
              "fillmode": "overlay",
              "size": 10,
              "solidity": 0.2
             }
            },
            "type": "histogram"
           }
          ],
          "histogram2d": [
           {
            "colorbar": {
             "outlinewidth": 0,
             "ticks": ""
            },
            "colorscale": [
             [
              0,
              "#0d0887"
             ],
             [
              0.1111111111111111,
              "#46039f"
             ],
             [
              0.2222222222222222,
              "#7201a8"
             ],
             [
              0.3333333333333333,
              "#9c179e"
             ],
             [
              0.4444444444444444,
              "#bd3786"
             ],
             [
              0.5555555555555556,
              "#d8576b"
             ],
             [
              0.6666666666666666,
              "#ed7953"
             ],
             [
              0.7777777777777778,
              "#fb9f3a"
             ],
             [
              0.8888888888888888,
              "#fdca26"
             ],
             [
              1,
              "#f0f921"
             ]
            ],
            "type": "histogram2d"
           }
          ],
          "histogram2dcontour": [
           {
            "colorbar": {
             "outlinewidth": 0,
             "ticks": ""
            },
            "colorscale": [
             [
              0,
              "#0d0887"
             ],
             [
              0.1111111111111111,
              "#46039f"
             ],
             [
              0.2222222222222222,
              "#7201a8"
             ],
             [
              0.3333333333333333,
              "#9c179e"
             ],
             [
              0.4444444444444444,
              "#bd3786"
             ],
             [
              0.5555555555555556,
              "#d8576b"
             ],
             [
              0.6666666666666666,
              "#ed7953"
             ],
             [
              0.7777777777777778,
              "#fb9f3a"
             ],
             [
              0.8888888888888888,
              "#fdca26"
             ],
             [
              1,
              "#f0f921"
             ]
            ],
            "type": "histogram2dcontour"
           }
          ],
          "mesh3d": [
           {
            "colorbar": {
             "outlinewidth": 0,
             "ticks": ""
            },
            "type": "mesh3d"
           }
          ],
          "parcoords": [
           {
            "line": {
             "colorbar": {
              "outlinewidth": 0,
              "ticks": ""
             }
            },
            "type": "parcoords"
           }
          ],
          "pie": [
           {
            "automargin": true,
            "type": "pie"
           }
          ],
          "scatter": [
           {
            "fillpattern": {
             "fillmode": "overlay",
             "size": 10,
             "solidity": 0.2
            },
            "type": "scatter"
           }
          ],
          "scatter3d": [
           {
            "line": {
             "colorbar": {
              "outlinewidth": 0,
              "ticks": ""
             }
            },
            "marker": {
             "colorbar": {
              "outlinewidth": 0,
              "ticks": ""
             }
            },
            "type": "scatter3d"
           }
          ],
          "scattercarpet": [
           {
            "marker": {
             "colorbar": {
              "outlinewidth": 0,
              "ticks": ""
             }
            },
            "type": "scattercarpet"
           }
          ],
          "scattergeo": [
           {
            "marker": {
             "colorbar": {
              "outlinewidth": 0,
              "ticks": ""
             }
            },
            "type": "scattergeo"
           }
          ],
          "scattergl": [
           {
            "marker": {
             "colorbar": {
              "outlinewidth": 0,
              "ticks": ""
             }
            },
            "type": "scattergl"
           }
          ],
          "scattermapbox": [
           {
            "marker": {
             "colorbar": {
              "outlinewidth": 0,
              "ticks": ""
             }
            },
            "type": "scattermapbox"
           }
          ],
          "scatterpolar": [
           {
            "marker": {
             "colorbar": {
              "outlinewidth": 0,
              "ticks": ""
             }
            },
            "type": "scatterpolar"
           }
          ],
          "scatterpolargl": [
           {
            "marker": {
             "colorbar": {
              "outlinewidth": 0,
              "ticks": ""
             }
            },
            "type": "scatterpolargl"
           }
          ],
          "scatterternary": [
           {
            "marker": {
             "colorbar": {
              "outlinewidth": 0,
              "ticks": ""
             }
            },
            "type": "scatterternary"
           }
          ],
          "surface": [
           {
            "colorbar": {
             "outlinewidth": 0,
             "ticks": ""
            },
            "colorscale": [
             [
              0,
              "#0d0887"
             ],
             [
              0.1111111111111111,
              "#46039f"
             ],
             [
              0.2222222222222222,
              "#7201a8"
             ],
             [
              0.3333333333333333,
              "#9c179e"
             ],
             [
              0.4444444444444444,
              "#bd3786"
             ],
             [
              0.5555555555555556,
              "#d8576b"
             ],
             [
              0.6666666666666666,
              "#ed7953"
             ],
             [
              0.7777777777777778,
              "#fb9f3a"
             ],
             [
              0.8888888888888888,
              "#fdca26"
             ],
             [
              1,
              "#f0f921"
             ]
            ],
            "type": "surface"
           }
          ],
          "table": [
           {
            "cells": {
             "fill": {
              "color": "#EBF0F8"
             },
             "line": {
              "color": "white"
             }
            },
            "header": {
             "fill": {
              "color": "#C8D4E3"
             },
             "line": {
              "color": "white"
             }
            },
            "type": "table"
           }
          ]
         },
         "layout": {
          "annotationdefaults": {
           "arrowcolor": "#2a3f5f",
           "arrowhead": 0,
           "arrowwidth": 1
          },
          "autotypenumbers": "strict",
          "coloraxis": {
           "colorbar": {
            "outlinewidth": 0,
            "ticks": ""
           }
          },
          "colorscale": {
           "diverging": [
            [
             0,
             "#8e0152"
            ],
            [
             0.1,
             "#c51b7d"
            ],
            [
             0.2,
             "#de77ae"
            ],
            [
             0.3,
             "#f1b6da"
            ],
            [
             0.4,
             "#fde0ef"
            ],
            [
             0.5,
             "#f7f7f7"
            ],
            [
             0.6,
             "#e6f5d0"
            ],
            [
             0.7,
             "#b8e186"
            ],
            [
             0.8,
             "#7fbc41"
            ],
            [
             0.9,
             "#4d9221"
            ],
            [
             1,
             "#276419"
            ]
           ],
           "sequential": [
            [
             0,
             "#0d0887"
            ],
            [
             0.1111111111111111,
             "#46039f"
            ],
            [
             0.2222222222222222,
             "#7201a8"
            ],
            [
             0.3333333333333333,
             "#9c179e"
            ],
            [
             0.4444444444444444,
             "#bd3786"
            ],
            [
             0.5555555555555556,
             "#d8576b"
            ],
            [
             0.6666666666666666,
             "#ed7953"
            ],
            [
             0.7777777777777778,
             "#fb9f3a"
            ],
            [
             0.8888888888888888,
             "#fdca26"
            ],
            [
             1,
             "#f0f921"
            ]
           ],
           "sequentialminus": [
            [
             0,
             "#0d0887"
            ],
            [
             0.1111111111111111,
             "#46039f"
            ],
            [
             0.2222222222222222,
             "#7201a8"
            ],
            [
             0.3333333333333333,
             "#9c179e"
            ],
            [
             0.4444444444444444,
             "#bd3786"
            ],
            [
             0.5555555555555556,
             "#d8576b"
            ],
            [
             0.6666666666666666,
             "#ed7953"
            ],
            [
             0.7777777777777778,
             "#fb9f3a"
            ],
            [
             0.8888888888888888,
             "#fdca26"
            ],
            [
             1,
             "#f0f921"
            ]
           ]
          },
          "colorway": [
           "#636efa",
           "#EF553B",
           "#00cc96",
           "#ab63fa",
           "#FFA15A",
           "#19d3f3",
           "#FF6692",
           "#B6E880",
           "#FF97FF",
           "#FECB52"
          ],
          "font": {
           "color": "#2a3f5f"
          },
          "geo": {
           "bgcolor": "white",
           "lakecolor": "white",
           "landcolor": "#E5ECF6",
           "showlakes": true,
           "showland": true,
           "subunitcolor": "white"
          },
          "hoverlabel": {
           "align": "left"
          },
          "hovermode": "closest",
          "mapbox": {
           "style": "light"
          },
          "paper_bgcolor": "white",
          "plot_bgcolor": "#E5ECF6",
          "polar": {
           "angularaxis": {
            "gridcolor": "white",
            "linecolor": "white",
            "ticks": ""
           },
           "bgcolor": "#E5ECF6",
           "radialaxis": {
            "gridcolor": "white",
            "linecolor": "white",
            "ticks": ""
           }
          },
          "scene": {
           "xaxis": {
            "backgroundcolor": "#E5ECF6",
            "gridcolor": "white",
            "gridwidth": 2,
            "linecolor": "white",
            "showbackground": true,
            "ticks": "",
            "zerolinecolor": "white"
           },
           "yaxis": {
            "backgroundcolor": "#E5ECF6",
            "gridcolor": "white",
            "gridwidth": 2,
            "linecolor": "white",
            "showbackground": true,
            "ticks": "",
            "zerolinecolor": "white"
           },
           "zaxis": {
            "backgroundcolor": "#E5ECF6",
            "gridcolor": "white",
            "gridwidth": 2,
            "linecolor": "white",
            "showbackground": true,
            "ticks": "",
            "zerolinecolor": "white"
           }
          },
          "shapedefaults": {
           "line": {
            "color": "#2a3f5f"
           }
          },
          "ternary": {
           "aaxis": {
            "gridcolor": "white",
            "linecolor": "white",
            "ticks": ""
           },
           "baxis": {
            "gridcolor": "white",
            "linecolor": "white",
            "ticks": ""
           },
           "bgcolor": "#E5ECF6",
           "caxis": {
            "gridcolor": "white",
            "linecolor": "white",
            "ticks": ""
           }
          },
          "title": {
           "x": 0.05
          },
          "xaxis": {
           "automargin": true,
           "gridcolor": "white",
           "linecolor": "white",
           "ticks": "",
           "title": {
            "standoff": 15
           },
           "zerolinecolor": "white",
           "zerolinewidth": 2
          },
          "yaxis": {
           "automargin": true,
           "gridcolor": "white",
           "linecolor": "white",
           "ticks": "",
           "title": {
            "standoff": 15
           },
           "zerolinecolor": "white",
           "zerolinewidth": 2
          }
         }
        },
        "title": {
         "text": "Box Plot of Sum by Phenotype"
        },
        "width": 800,
        "xaxis": {
         "anchor": "y",
         "autorange": true,
         "domain": [
          0,
          1
         ],
         "range": [
          -0.5,
          1.5
         ],
         "title": {
          "text": "Group"
         },
         "type": "category"
        },
        "yaxis": {
         "anchor": "x",
         "autorange": true,
         "domain": [
          0,
          1
         ],
         "range": [
          4.721227621483376,
          207.27877237851663
         ],
         "title": {
          "text": "Sum"
         },
         "type": "linear"
        }
       }
      },
      "text/html": [
       "<div>                            <div id=\"761defe4-24f5-4dac-a12a-67c45e285fd0\" class=\"plotly-graph-div\" style=\"height:800px; width:800px;\"></div>            <script type=\"text/javascript\">                require([\"plotly\"], function(Plotly) {                    window.PLOTLYENV=window.PLOTLYENV || {};                                    if (document.getElementById(\"761defe4-24f5-4dac-a12a-67c45e285fd0\")) {                    Plotly.newPlot(                        \"761defe4-24f5-4dac-a12a-67c45e285fd0\",                        [{\"alignmentgroup\":\"True\",\"hovertemplate\":\"group=%{x}<br>sum=%{y}<extra></extra>\",\"legendgroup\":\"\",\"marker\":{\"color\":\"#636efa\"},\"name\":\"\",\"notched\":false,\"offsetgroup\":\"\",\"orientation\":\"v\",\"showlegend\":false,\"x\":[\"Postnatal\",\"Postnatal\",\"Prenatal\",\"Postnatal\",\"Postnatal\",\"Prenatal\",\"Prenatal\",\"Prenatal\",\"Prenatal\",\"Prenatal\",\"Prenatal\",\"Postnatal\",\"Prenatal\",\"Postnatal\",\"Postnatal\",\"Postnatal\",\"Postnatal\",\"Postnatal\",\"Postnatal\",\"Postnatal\",\"Prenatal\",\"Postnatal\",\"Prenatal\",\"Postnatal\",\"Prenatal\",\"Postnatal\",\"Postnatal\",\"Postnatal\",\"Prenatal\",\"Postnatal\",\"Prenatal\",\"Prenatal\",\"Prenatal\",\"Prenatal\",\"Postnatal\",\"Prenatal\",\"Prenatal\",\"Postnatal\"],\"x0\":\" \",\"xaxis\":\"x\",\"y\":[196,63,63,63,63,62,29,28,28,91,147,92,70,103,129,77,67,48,85,55,133,156,166,70,45,32,119,33,74,58,85,168,18,29,25,16,72,32],\"y0\":\" \",\"yaxis\":\"y\",\"type\":\"box\"},{\"hovertemplate\":\"sex=M<br>group=%{x}<br>sum=%{y}<extra></extra>\",\"legendgroup\":\"M\",\"marker\":{\"color\":\"#636efa\",\"symbol\":\"circle\"},\"mode\":\"markers\",\"name\":\"M\",\"orientation\":\"v\",\"showlegend\":true,\"x\":[\"Postnatal\",\"Prenatal\",\"Prenatal\",\"Prenatal\",\"Postnatal\",\"Postnatal\",\"Postnatal\",\"Postnatal\",\"Postnatal\",\"Postnatal\",\"Postnatal\",\"Postnatal\",\"Prenatal\",\"Prenatal\",\"Postnatal\",\"Prenatal\",\"Prenatal\"],\"xaxis\":\"x\",\"y\":[196,62,28,70,103,129,77,67,48,55,156,32,74,85,25,16,72],\"yaxis\":\"y\",\"type\":\"scatter\"}],                        {\"template\":{\"data\":{\"histogram2dcontour\":[{\"type\":\"histogram2dcontour\",\"colorbar\":{\"outlinewidth\":0,\"ticks\":\"\"},\"colorscale\":[[0.0,\"#0d0887\"],[0.1111111111111111,\"#46039f\"],[0.2222222222222222,\"#7201a8\"],[0.3333333333333333,\"#9c179e\"],[0.4444444444444444,\"#bd3786\"],[0.5555555555555556,\"#d8576b\"],[0.6666666666666666,\"#ed7953\"],[0.7777777777777778,\"#fb9f3a\"],[0.8888888888888888,\"#fdca26\"],[1.0,\"#f0f921\"]]}],\"choropleth\":[{\"type\":\"choropleth\",\"colorbar\":{\"outlinewidth\":0,\"ticks\":\"\"}}],\"histogram2d\":[{\"type\":\"histogram2d\",\"colorbar\":{\"outlinewidth\":0,\"ticks\":\"\"},\"colorscale\":[[0.0,\"#0d0887\"],[0.1111111111111111,\"#46039f\"],[0.2222222222222222,\"#7201a8\"],[0.3333333333333333,\"#9c179e\"],[0.4444444444444444,\"#bd3786\"],[0.5555555555555556,\"#d8576b\"],[0.6666666666666666,\"#ed7953\"],[0.7777777777777778,\"#fb9f3a\"],[0.8888888888888888,\"#fdca26\"],[1.0,\"#f0f921\"]]}],\"heatmap\":[{\"type\":\"heatmap\",\"colorbar\":{\"outlinewidth\":0,\"ticks\":\"\"},\"colorscale\":[[0.0,\"#0d0887\"],[0.1111111111111111,\"#46039f\"],[0.2222222222222222,\"#7201a8\"],[0.3333333333333333,\"#9c179e\"],[0.4444444444444444,\"#bd3786\"],[0.5555555555555556,\"#d8576b\"],[0.6666666666666666,\"#ed7953\"],[0.7777777777777778,\"#fb9f3a\"],[0.8888888888888888,\"#fdca26\"],[1.0,\"#f0f921\"]]}],\"heatmapgl\":[{\"type\":\"heatmapgl\",\"colorbar\":{\"outlinewidth\":0,\"ticks\":\"\"},\"colorscale\":[[0.0,\"#0d0887\"],[0.1111111111111111,\"#46039f\"],[0.2222222222222222,\"#7201a8\"],[0.3333333333333333,\"#9c179e\"],[0.4444444444444444,\"#bd3786\"],[0.5555555555555556,\"#d8576b\"],[0.6666666666666666,\"#ed7953\"],[0.7777777777777778,\"#fb9f3a\"],[0.8888888888888888,\"#fdca26\"],[1.0,\"#f0f921\"]]}],\"contourcarpet\":[{\"type\":\"contourcarpet\",\"colorbar\":{\"outlinewidth\":0,\"ticks\":\"\"}}],\"contour\":[{\"type\":\"contour\",\"colorbar\":{\"outlinewidth\":0,\"ticks\":\"\"},\"colorscale\":[[0.0,\"#0d0887\"],[0.1111111111111111,\"#46039f\"],[0.2222222222222222,\"#7201a8\"],[0.3333333333333333,\"#9c179e\"],[0.4444444444444444,\"#bd3786\"],[0.5555555555555556,\"#d8576b\"],[0.6666666666666666,\"#ed7953\"],[0.7777777777777778,\"#fb9f3a\"],[0.8888888888888888,\"#fdca26\"],[1.0,\"#f0f921\"]]}],\"surface\":[{\"type\":\"surface\",\"colorbar\":{\"outlinewidth\":0,\"ticks\":\"\"},\"colorscale\":[[0.0,\"#0d0887\"],[0.1111111111111111,\"#46039f\"],[0.2222222222222222,\"#7201a8\"],[0.3333333333333333,\"#9c179e\"],[0.4444444444444444,\"#bd3786\"],[0.5555555555555556,\"#d8576b\"],[0.6666666666666666,\"#ed7953\"],[0.7777777777777778,\"#fb9f3a\"],[0.8888888888888888,\"#fdca26\"],[1.0,\"#f0f921\"]]}],\"mesh3d\":[{\"type\":\"mesh3d\",\"colorbar\":{\"outlinewidth\":0,\"ticks\":\"\"}}],\"scatter\":[{\"fillpattern\":{\"fillmode\":\"overlay\",\"size\":10,\"solidity\":0.2},\"type\":\"scatter\"}],\"parcoords\":[{\"type\":\"parcoords\",\"line\":{\"colorbar\":{\"outlinewidth\":0,\"ticks\":\"\"}}}],\"scatterpolargl\":[{\"type\":\"scatterpolargl\",\"marker\":{\"colorbar\":{\"outlinewidth\":0,\"ticks\":\"\"}}}],\"bar\":[{\"error_x\":{\"color\":\"#2a3f5f\"},\"error_y\":{\"color\":\"#2a3f5f\"},\"marker\":{\"line\":{\"color\":\"#E5ECF6\",\"width\":0.5},\"pattern\":{\"fillmode\":\"overlay\",\"size\":10,\"solidity\":0.2}},\"type\":\"bar\"}],\"scattergeo\":[{\"type\":\"scattergeo\",\"marker\":{\"colorbar\":{\"outlinewidth\":0,\"ticks\":\"\"}}}],\"scatterpolar\":[{\"type\":\"scatterpolar\",\"marker\":{\"colorbar\":{\"outlinewidth\":0,\"ticks\":\"\"}}}],\"histogram\":[{\"marker\":{\"pattern\":{\"fillmode\":\"overlay\",\"size\":10,\"solidity\":0.2}},\"type\":\"histogram\"}],\"scattergl\":[{\"type\":\"scattergl\",\"marker\":{\"colorbar\":{\"outlinewidth\":0,\"ticks\":\"\"}}}],\"scatter3d\":[{\"type\":\"scatter3d\",\"line\":{\"colorbar\":{\"outlinewidth\":0,\"ticks\":\"\"}},\"marker\":{\"colorbar\":{\"outlinewidth\":0,\"ticks\":\"\"}}}],\"scattermapbox\":[{\"type\":\"scattermapbox\",\"marker\":{\"colorbar\":{\"outlinewidth\":0,\"ticks\":\"\"}}}],\"scatterternary\":[{\"type\":\"scatterternary\",\"marker\":{\"colorbar\":{\"outlinewidth\":0,\"ticks\":\"\"}}}],\"scattercarpet\":[{\"type\":\"scattercarpet\",\"marker\":{\"colorbar\":{\"outlinewidth\":0,\"ticks\":\"\"}}}],\"carpet\":[{\"aaxis\":{\"endlinecolor\":\"#2a3f5f\",\"gridcolor\":\"white\",\"linecolor\":\"white\",\"minorgridcolor\":\"white\",\"startlinecolor\":\"#2a3f5f\"},\"baxis\":{\"endlinecolor\":\"#2a3f5f\",\"gridcolor\":\"white\",\"linecolor\":\"white\",\"minorgridcolor\":\"white\",\"startlinecolor\":\"#2a3f5f\"},\"type\":\"carpet\"}],\"table\":[{\"cells\":{\"fill\":{\"color\":\"#EBF0F8\"},\"line\":{\"color\":\"white\"}},\"header\":{\"fill\":{\"color\":\"#C8D4E3\"},\"line\":{\"color\":\"white\"}},\"type\":\"table\"}],\"barpolar\":[{\"marker\":{\"line\":{\"color\":\"#E5ECF6\",\"width\":0.5},\"pattern\":{\"fillmode\":\"overlay\",\"size\":10,\"solidity\":0.2}},\"type\":\"barpolar\"}],\"pie\":[{\"automargin\":true,\"type\":\"pie\"}]},\"layout\":{\"autotypenumbers\":\"strict\",\"colorway\":[\"#636efa\",\"#EF553B\",\"#00cc96\",\"#ab63fa\",\"#FFA15A\",\"#19d3f3\",\"#FF6692\",\"#B6E880\",\"#FF97FF\",\"#FECB52\"],\"font\":{\"color\":\"#2a3f5f\"},\"hovermode\":\"closest\",\"hoverlabel\":{\"align\":\"left\"},\"paper_bgcolor\":\"white\",\"plot_bgcolor\":\"#E5ECF6\",\"polar\":{\"bgcolor\":\"#E5ECF6\",\"angularaxis\":{\"gridcolor\":\"white\",\"linecolor\":\"white\",\"ticks\":\"\"},\"radialaxis\":{\"gridcolor\":\"white\",\"linecolor\":\"white\",\"ticks\":\"\"}},\"ternary\":{\"bgcolor\":\"#E5ECF6\",\"aaxis\":{\"gridcolor\":\"white\",\"linecolor\":\"white\",\"ticks\":\"\"},\"baxis\":{\"gridcolor\":\"white\",\"linecolor\":\"white\",\"ticks\":\"\"},\"caxis\":{\"gridcolor\":\"white\",\"linecolor\":\"white\",\"ticks\":\"\"}},\"coloraxis\":{\"colorbar\":{\"outlinewidth\":0,\"ticks\":\"\"}},\"colorscale\":{\"sequential\":[[0.0,\"#0d0887\"],[0.1111111111111111,\"#46039f\"],[0.2222222222222222,\"#7201a8\"],[0.3333333333333333,\"#9c179e\"],[0.4444444444444444,\"#bd3786\"],[0.5555555555555556,\"#d8576b\"],[0.6666666666666666,\"#ed7953\"],[0.7777777777777778,\"#fb9f3a\"],[0.8888888888888888,\"#fdca26\"],[1.0,\"#f0f921\"]],\"sequentialminus\":[[0.0,\"#0d0887\"],[0.1111111111111111,\"#46039f\"],[0.2222222222222222,\"#7201a8\"],[0.3333333333333333,\"#9c179e\"],[0.4444444444444444,\"#bd3786\"],[0.5555555555555556,\"#d8576b\"],[0.6666666666666666,\"#ed7953\"],[0.7777777777777778,\"#fb9f3a\"],[0.8888888888888888,\"#fdca26\"],[1.0,\"#f0f921\"]],\"diverging\":[[0,\"#8e0152\"],[0.1,\"#c51b7d\"],[0.2,\"#de77ae\"],[0.3,\"#f1b6da\"],[0.4,\"#fde0ef\"],[0.5,\"#f7f7f7\"],[0.6,\"#e6f5d0\"],[0.7,\"#b8e186\"],[0.8,\"#7fbc41\"],[0.9,\"#4d9221\"],[1,\"#276419\"]]},\"xaxis\":{\"gridcolor\":\"white\",\"linecolor\":\"white\",\"ticks\":\"\",\"title\":{\"standoff\":15},\"zerolinecolor\":\"white\",\"automargin\":true,\"zerolinewidth\":2},\"yaxis\":{\"gridcolor\":\"white\",\"linecolor\":\"white\",\"ticks\":\"\",\"title\":{\"standoff\":15},\"zerolinecolor\":\"white\",\"automargin\":true,\"zerolinewidth\":2},\"scene\":{\"xaxis\":{\"backgroundcolor\":\"#E5ECF6\",\"gridcolor\":\"white\",\"linecolor\":\"white\",\"showbackground\":true,\"ticks\":\"\",\"zerolinecolor\":\"white\",\"gridwidth\":2},\"yaxis\":{\"backgroundcolor\":\"#E5ECF6\",\"gridcolor\":\"white\",\"linecolor\":\"white\",\"showbackground\":true,\"ticks\":\"\",\"zerolinecolor\":\"white\",\"gridwidth\":2},\"zaxis\":{\"backgroundcolor\":\"#E5ECF6\",\"gridcolor\":\"white\",\"linecolor\":\"white\",\"showbackground\":true,\"ticks\":\"\",\"zerolinecolor\":\"white\",\"gridwidth\":2}},\"shapedefaults\":{\"line\":{\"color\":\"#2a3f5f\"}},\"annotationdefaults\":{\"arrowcolor\":\"#2a3f5f\",\"arrowhead\":0,\"arrowwidth\":1},\"geo\":{\"bgcolor\":\"white\",\"landcolor\":\"#E5ECF6\",\"subunitcolor\":\"white\",\"showland\":true,\"showlakes\":true,\"lakecolor\":\"white\"},\"title\":{\"x\":0.05},\"mapbox\":{\"style\":\"light\"}}},\"xaxis\":{\"anchor\":\"y\",\"domain\":[0.0,1.0],\"title\":{\"text\":\"Group\"}},\"yaxis\":{\"anchor\":\"x\",\"domain\":[0.0,1.0],\"title\":{\"text\":\"Sum\"}},\"legend\":{\"tracegroupgap\":0},\"margin\":{\"t\":60},\"boxmode\":\"group\",\"title\":{\"text\":\"Box Plot of Sum by Phenotype\"},\"width\":800,\"height\":800},                        {\"responsive\": true}                    ).then(function(){\n",
       "                            \n",
       "var gd = document.getElementById('761defe4-24f5-4dac-a12a-67c45e285fd0');\n",
       "var x = new MutationObserver(function (mutations, observer) {{\n",
       "        var display = window.getComputedStyle(gd).display;\n",
       "        if (!display || display === 'none') {{\n",
       "            console.log([gd, 'removed!']);\n",
       "            Plotly.purge(gd);\n",
       "            observer.disconnect();\n",
       "        }}\n",
       "}});\n",
       "\n",
       "// Listen for the removal of the full notebook cells\n",
       "var notebookContainer = gd.closest('#notebook-container');\n",
       "if (notebookContainer) {{\n",
       "    x.observe(notebookContainer, {childList: true});\n",
       "}}\n",
       "\n",
       "// Listen for the clearing of the current output cell\n",
       "var outputEl = gd.closest('.output');\n",
       "if (outputEl) {{\n",
       "    x.observe(outputEl, {childList: true});\n",
       "}}\n",
       "\n",
       "                        })                };                });            </script>        </div>"
      ]
     },
     "metadata": {},
     "output_type": "display_data"
    }
   ],
   "source": [
    "# Create a box plot using plotly\n",
    "fig = px.box(mergedData, x='group', y='sum')\n",
    "fig.add_trace(px.scatter(mergedData, x='group', y='sum',color='sex').data[0])\n",
    "# Set the title, axis labels and size\n",
    "fig.update_layout(title='Box Plot of Sum by Phenotype', xaxis_title='Group', yaxis_title='Sum',width=800,height=800)\n",
    "\n",
    "# Show the plot\n",
    "fig.show()\n"
   ]
  },
  {
   "cell_type": "code",
   "execution_count": null,
   "id": "96b19c2b-f1d8-47ba-a6e7-9ff2ab822766",
   "metadata": {},
   "outputs": [],
   "source": []
  }
 ],
 "metadata": {
  "kernelspec": {
   "display_name": "Python 3 (ipykernel)",
   "language": "python",
   "name": "python3"
  },
  "language_info": {
   "codemirror_mode": {
    "name": "ipython",
    "version": 3
   },
   "file_extension": ".py",
   "mimetype": "text/x-python",
   "name": "python",
   "nbconvert_exporter": "python",
   "pygments_lexer": "ipython3",
   "version": "3.11.1"
  }
 },
 "nbformat": 4,
 "nbformat_minor": 5
}
